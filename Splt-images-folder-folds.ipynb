{
 "cells": [
  {
   "cell_type": "code",
   "execution_count": 1,
   "metadata": {},
   "outputs": [],
   "source": [
    "import os\n",
    "import shutil\n",
    "from sklearn.model_selection import train_test_split\n",
    "from sklearn.model_selection import KFold"
   ]
  },
  {
   "cell_type": "code",
   "execution_count": 2,
   "metadata": {},
   "outputs": [],
   "source": [
    "def get_files(path):\n",
    "    dir_name  = os.path.join(os.getcwd(), path)\n",
    "    files     = os.listdir(dir_name)\n",
    "    paths    = []\n",
    "\n",
    "    for file in files:\n",
    "        if '.jpg' in file:\n",
    "            paths.append(os.path.join(path,file))\n",
    "    \n",
    "    return paths"
   ]
  },
  {
   "cell_type": "code",
   "execution_count": 3,
   "metadata": {},
   "outputs": [],
   "source": [
    "def copy_images(paths, destination_folder):\n",
    "    if not os.path.exists(destination_folder):\n",
    "        os.makedirs(destination_folder)\n",
    "    for path in paths:\n",
    "        shutil.copy(path, destination_folder)\n",
    "    \n",
    "    print(\"Images copied to\", destination_folder)"
   ]
  },
  {
   "cell_type": "code",
   "execution_count": 4,
   "metadata": {},
   "outputs": [],
   "source": [
    "def print_path_info(paths):\n",
    "    g_paths = [path for path in paths if '_g_' in path]\n",
    "    non_g_paths = [path for path in paths if '_g_' not in path]\n",
    "\n",
    "    print(\"Total ->\", len(paths))\n",
    "    print(\"Glaucoma ->\", len(g_paths))\n",
    "    print(\"No Glaucoma\", len(non_g_paths)) \n",
    "    print(\"Glaucoma % ->\", len(g_paths)/len(paths))\n",
    "    print(\"No Glaucoma % ->\", len(non_g_paths)/len(paths))\n",
    "    print(\"\")"
   ]
  },
  {
   "cell_type": "code",
   "execution_count": 5,
   "metadata": {},
   "outputs": [
    {
     "name": "stdout",
     "output_type": "stream",
     "text": [
      "Imagenes -> 455\n"
     ]
    }
   ],
   "source": [
    "DATASET_NAME = 'RIM'\n",
    "path = './datasets/' + DATASET_NAME\n",
    "paths = get_files(path)\n",
    "print(\"Imagenes ->\", len(paths))"
   ]
  },
  {
   "cell_type": "code",
   "execution_count": 6,
   "metadata": {},
   "outputs": [
    {
     "name": "stdout",
     "output_type": "stream",
     "text": [
      "Total -> 368\n",
      "Glaucoma -> 148\n",
      "No Glaucoma 220\n",
      "Glaucoma % -> 0.40217391304347827\n",
      "No Glaucoma % -> 0.5978260869565217\n",
      "\n",
      "--------------------\n",
      "Total -> 46\n",
      "Glaucoma -> 24\n",
      "No Glaucoma 22\n",
      "Glaucoma % -> 0.5217391304347826\n",
      "No Glaucoma % -> 0.4782608695652174\n",
      "\n",
      "--------------------\n",
      "Total -> 41\n",
      "Glaucoma -> 22\n",
      "No Glaucoma 19\n",
      "Glaucoma % -> 0.5365853658536586\n",
      "No Glaucoma % -> 0.4634146341463415\n",
      "\n"
     ]
    }
   ],
   "source": [
    "# First split: 90% for training, 10% for validation\n",
    "train_paths, val_paths = train_test_split(paths, test_size=0.10, random_state=42, shuffle=True)\n",
    "\n",
    "# Second split: 90% of the first training set for training, 10% for testing\n",
    "train_paths, test_paths = train_test_split(train_paths, test_size=0.10, random_state=30, shuffle=True)\n",
    "\n",
    "print_path_info(train_paths)\n",
    "print(\"--------------------\")\n",
    "print_path_info(val_paths)\n",
    "print(\"--------------------\")\n",
    "print_path_info(test_paths)"
   ]
  },
  {
   "cell_type": "code",
   "execution_count": 7,
   "metadata": {},
   "outputs": [
    {
     "name": "stdout",
     "output_type": "stream",
     "text": [
      "Images copied to datasets_split_folds/RIM/fold1/train\n",
      "Images copied to datasets_split_folds/RIM/fold1/valid\n",
      "Images copied to datasets_split_folds/RIM/fold1/test\n",
      "Images copied to datasets_split_folds/RIM/fold2/train\n",
      "Images copied to datasets_split_folds/RIM/fold2/valid\n",
      "Images copied to datasets_split_folds/RIM/fold2/test\n",
      "Images copied to datasets_split_folds/RIM/fold3/train\n",
      "Images copied to datasets_split_folds/RIM/fold3/valid\n",
      "Images copied to datasets_split_folds/RIM/fold3/test\n",
      "Images copied to datasets_split_folds/RIM/fold4/train\n",
      "Images copied to datasets_split_folds/RIM/fold4/valid\n",
      "Images copied to datasets_split_folds/RIM/fold4/test\n",
      "Images copied to datasets_split_folds/RIM/fold5/train\n",
      "Images copied to datasets_split_folds/RIM/fold5/valid\n",
      "Images copied to datasets_split_folds/RIM/fold5/test\n"
     ]
    }
   ],
   "source": [
    "def k_fold_split(paths, test_paths, k, dataset_name):\n",
    "    kf = KFold(n_splits=k, random_state=42, shuffle=True)\n",
    "    fold = 0\n",
    "    for train_index, val_index in kf.split(paths):\n",
    "        fold += 1\n",
    "        train_paths = [paths[i] for i in train_index]\n",
    "        val_paths = [paths[i] for i in val_index]\n",
    "\n",
    "        train_folder = f'datasets_split_folds/{dataset_name}/fold{fold}/train'\n",
    "        valid_folder = f'datasets_split_folds/{dataset_name}/fold{fold}/valid'\n",
    "        test_folder = f'datasets_split_folds/{dataset_name}/fold{fold}/test'\n",
    "\n",
    "        copy_images(train_paths, train_folder)\n",
    "        copy_images(val_paths, valid_folder)\n",
    "        copy_images(test_paths, test_folder)\n",
    "\n",
    "# Call the function\n",
    "k_fold_split(train_paths, test_paths, k=5, dataset_name=DATASET_NAME)"
   ]
  },
  {
   "cell_type": "code",
   "execution_count": null,
   "metadata": {},
   "outputs": [],
   "source": []
  }
 ],
 "metadata": {
  "kernelspec": {
   "display_name": "my_env",
   "language": "python",
   "name": "python3"
  },
  "language_info": {
   "codemirror_mode": {
    "name": "ipython",
    "version": 3
   },
   "file_extension": ".py",
   "mimetype": "text/x-python",
   "name": "python",
   "nbconvert_exporter": "python",
   "pygments_lexer": "ipython3",
   "version": "3.9.6"
  }
 },
 "nbformat": 4,
 "nbformat_minor": 2
}
