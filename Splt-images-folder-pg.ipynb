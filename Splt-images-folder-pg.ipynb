{
 "cells": [
  {
   "cell_type": "code",
   "execution_count": 2,
   "metadata": {},
   "outputs": [],
   "source": [
    "import os\n",
    "import shutil\n",
    "from sklearn.model_selection import train_test_split"
   ]
  },
  {
   "cell_type": "code",
   "execution_count": 3,
   "metadata": {},
   "outputs": [],
   "source": [
    "def get_files(path):\n",
    "    dir_name  = os.path.join(os.getcwd(), path)\n",
    "    files     = os.listdir(dir_name)\n",
    "    paths    = []\n",
    "\n",
    "    for file in files:\n",
    "        if '.jpg' in file:\n",
    "            paths.append(os.path.join(path,file))\n",
    "    \n",
    "    return paths"
   ]
  },
  {
   "cell_type": "code",
   "execution_count": 13,
   "metadata": {},
   "outputs": [],
   "source": [
    "def print_path_info(cats_path, dogs_path):\n",
    "    total_paths = len(cats_path) + len(dogs_path)\n",
    "\n",
    "    print(\"Total ->\", total_paths)\n",
    "    print(\"Cats ->\", len(cats_path))\n",
    "    print(\"Dogs ->\", len(dogs_path)) \n",
    "    print(\"Cats % ->\", len(cats_path)/total_paths)\n",
    "    print(\"Dogs % ->\", len(dogs_path)/total_paths)\n",
    "    print(\"\")\n",
    "\n",
    "def print_path_info_split(paths):\n",
    "    cats_paths = [path for path in paths if 'cats' in path]\n",
    "    dogs_paths = [path for path in paths if 'dogs' in path]\n",
    "\n",
    "    print(\"Total ->\", len(paths))\n",
    "    print(\"Cats ->\", len(cats_paths))\n",
    "    print(\"Dogs ->\", len(dogs_paths)) \n",
    "    print(\"Cats % ->\", len(cats_paths)/len(paths))\n",
    "    print(\"Dogs % ->\", len(dogs_paths)/len(paths))\n",
    "    print(\"\")"
   ]
  },
  {
   "cell_type": "code",
   "execution_count": 8,
   "metadata": {},
   "outputs": [
    {
     "name": "stdout",
     "output_type": "stream",
     "text": [
      "Total -> 10000\n",
      "Cats -> 5000\n",
      "Dogs -> 5000\n",
      "Cats % -> 0.5\n",
      "Dogs % -> 0.5\n",
      "\n"
     ]
    }
   ],
   "source": [
    "cats_path = get_files('./datasets/PerrosGatos/cats')\n",
    "dogs_path = get_files('./datasets/PerrosGatos/dogs')\n",
    "\n",
    "cats_path = [path for path in cats_path if '(' not in path and ')' not in path]\n",
    "dogs_path = [path for path in dogs_path if '(' not in path and ')' not in path]\n",
    "\n",
    "cats_path = cats_path[:1000]\n",
    "dogs_path = dogs_path[:1000]\n",
    "\n",
    "print_path_info(cats_path, dogs_path)"
   ]
  },
  {
   "cell_type": "code",
   "execution_count": 10,
   "metadata": {},
   "outputs": [
    {
     "name": "stdout",
     "output_type": "stream",
     "text": [
      "Imagenes -> 10000\n"
     ]
    }
   ],
   "source": [
    "DATASET_NAME = 'PerrosGatos'\n",
    "path = './datasets/' + DATASET_NAME\n",
    "paths = cats_path + dogs_path\n",
    "print(\"Imagenes ->\", len(paths))"
   ]
  },
  {
   "cell_type": "code",
   "execution_count": 14,
   "metadata": {},
   "outputs": [
    {
     "name": "stdout",
     "output_type": "stream",
     "text": [
      "Total -> 8100\n",
      "Cats -> 4072\n",
      "Dogs -> 4028\n",
      "Cats % -> 0.5027160493827161\n",
      "Dogs % -> 0.497283950617284\n",
      "\n",
      "--------------------\n",
      "Total -> 1000\n",
      "Cats -> 492\n",
      "Dogs -> 508\n",
      "Cats % -> 0.492\n",
      "Dogs % -> 0.508\n",
      "\n",
      "--------------------\n",
      "Total -> 900\n",
      "Cats -> 436\n",
      "Dogs -> 464\n",
      "Cats % -> 0.48444444444444446\n",
      "Dogs % -> 0.5155555555555555\n",
      "\n"
     ]
    }
   ],
   "source": [
    "# First split: 90% for training, 10% for validation\n",
    "train_paths, val_paths = train_test_split(paths, test_size=0.10, random_state=42, shuffle=True)\n",
    "\n",
    "# Second split: 90% of the first training set for training, 10% for testing\n",
    "train_paths, test_paths = train_test_split(train_paths, test_size=0.10, random_state=30, shuffle=True)\n",
    "\n",
    "print_path_info_split(train_paths)\n",
    "print(\"--------------------\")\n",
    "print_path_info_split(val_paths)\n",
    "print(\"--------------------\")\n",
    "print_path_info_split(test_paths)"
   ]
  },
  {
   "cell_type": "code",
   "execution_count": 15,
   "metadata": {},
   "outputs": [
    {
     "name": "stdout",
     "output_type": "stream",
     "text": [
      "Images copied to datasets_split/PerrosGatos/Fold0/train\n",
      "Images copied to datasets_split/PerrosGatos/Fold0/valid\n",
      "Images copied to datasets_split/PerrosGatos/Fold0/test\n"
     ]
    }
   ],
   "source": [
    "def copy_images(paths, destination_folder):\n",
    "    if not os.path.exists(destination_folder):\n",
    "        os.makedirs(destination_folder)\n",
    "    for path in paths:\n",
    "        shutil.copy(path, destination_folder)\n",
    "    \n",
    "    print(\"Images copied to\", destination_folder)\n",
    "\n",
    "# Copy images\n",
    "copy_images(train_paths, 'datasets_split/'+DATASET_NAME+'/Fold0/train')\n",
    "copy_images(val_paths, 'datasets_split/'+DATASET_NAME+'/Fold0/valid')\n",
    "copy_images(test_paths, 'datasets_split/'+DATASET_NAME+'/Fold0/test')"
   ]
  },
  {
   "cell_type": "code",
   "execution_count": null,
   "metadata": {},
   "outputs": [],
   "source": []
  }
 ],
 "metadata": {
  "kernelspec": {
   "display_name": "my_env",
   "language": "python",
   "name": "python3"
  },
  "language_info": {
   "codemirror_mode": {
    "name": "ipython",
    "version": 3
   },
   "file_extension": ".py",
   "mimetype": "text/x-python",
   "name": "python",
   "nbconvert_exporter": "python",
   "pygments_lexer": "ipython3",
   "version": "3.9.6"
  }
 },
 "nbformat": 4,
 "nbformat_minor": 2
}
