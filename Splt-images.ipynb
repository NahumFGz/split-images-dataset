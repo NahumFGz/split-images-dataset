{
 "cells": [
  {
   "cell_type": "code",
   "execution_count": 34,
   "metadata": {},
   "outputs": [],
   "source": [
    "import os\n",
    "import shutil\n",
    "from sklearn.model_selection import train_test_split"
   ]
  },
  {
   "cell_type": "code",
   "execution_count": 35,
   "metadata": {},
   "outputs": [],
   "source": [
    "def get_files(path):\n",
    "    dir_name  = os.path.join(os.getcwd(), path)\n",
    "    files     = os.listdir(dir_name)\n",
    "    paths    = []\n",
    "\n",
    "    for file in files:\n",
    "        if '.jpg' in file:\n",
    "            paths.append(os.path.join(path,file))\n",
    "    \n",
    "    return paths"
   ]
  },
  {
   "cell_type": "code",
   "execution_count": 36,
   "metadata": {},
   "outputs": [],
   "source": [
    "def print_path_info(paths):\n",
    "    g_paths = [path for path in paths if '_g_' in path]\n",
    "    non_g_paths = [path for path in paths if '_g_' not in path]\n",
    "\n",
    "    print(\"Total ->\", len(paths))\n",
    "    print(\"Glaucoma ->\", len(g_paths))\n",
    "    print(\"No Glaucoma\", len(non_g_paths)) \n",
    "    print(\"Glaucoma % ->\", len(g_paths)/len(paths))\n",
    "    print(\"No Glaucoma % ->\", len(non_g_paths)/len(paths))\n",
    "    print(\"\")"
   ]
  },
  {
   "cell_type": "code",
   "execution_count": 37,
   "metadata": {},
   "outputs": [
    {
     "name": "stdout",
     "output_type": "stream",
     "text": [
      "Imagenes -> 703\n"
     ]
    }
   ],
   "source": [
    "paths = get_files('./datasets/ACRIMA')\n",
    "print(\"Imagenes ->\", len(paths))"
   ]
  },
  {
   "cell_type": "code",
   "execution_count": 38,
   "metadata": {},
   "outputs": [
    {
     "name": "stdout",
     "output_type": "stream",
     "text": [
      "Total -> 568\n",
      "Glaucoma -> 315\n",
      "No Glaucoma 253\n",
      "Glaucoma % -> 0.5545774647887324\n",
      "No Glaucoma % -> 0.4454225352112676\n",
      "\n",
      "--------------------\n",
      "Total -> 71\n",
      "Glaucoma -> 41\n",
      "No Glaucoma 30\n",
      "Glaucoma % -> 0.5774647887323944\n",
      "No Glaucoma % -> 0.4225352112676056\n",
      "\n",
      "--------------------\n",
      "Total -> 64\n",
      "Glaucoma -> 38\n",
      "No Glaucoma 26\n",
      "Glaucoma % -> 0.59375\n",
      "No Glaucoma % -> 0.40625\n",
      "\n"
     ]
    }
   ],
   "source": [
    "# First split: 90% for training, 10% for validation\n",
    "train_paths, val_paths = train_test_split(paths, test_size=0.10, random_state=42, shuffle=True)\n",
    "\n",
    "# Second split: 90% of the first training set for training, 10% for testing\n",
    "train_paths, test_paths = train_test_split(train_paths, test_size=0.10, random_state=30, shuffle=True)\n",
    "\n",
    "print_path_info(train_paths)\n",
    "print(\"--------------------\")\n",
    "print_path_info(val_paths)\n",
    "print(\"--------------------\")\n",
    "print_path_info(test_paths)"
   ]
  },
  {
   "cell_type": "code",
   "execution_count": 39,
   "metadata": {},
   "outputs": [
    {
     "name": "stdout",
     "output_type": "stream",
     "text": [
      "Images copied to datasets_split/ACRIMA/train\n",
      "Images copied to datasets_split/ACRIMA/val\n",
      "Images copied to datasets_split/ACRIMA/test\n"
     ]
    }
   ],
   "source": [
    "def copy_images(paths, destination_folder):\n",
    "    if not os.path.exists(destination_folder):\n",
    "        os.makedirs(destination_folder)\n",
    "    for path in paths:\n",
    "        shutil.copy(path, destination_folder)\n",
    "    \n",
    "    print(\"Images copied to\", destination_folder)\n",
    "\n",
    "# Copy images\n",
    "copy_images(train_paths, 'datasets_split/ACRIMA/train')\n",
    "copy_images(val_paths, 'datasets_split/ACRIMA/val')\n",
    "copy_images(test_paths, 'datasets_split/ACRIMA/test')"
   ]
  },
  {
   "cell_type": "code",
   "execution_count": null,
   "metadata": {},
   "outputs": [],
   "source": []
  }
 ],
 "metadata": {
  "kernelspec": {
   "display_name": "my_env",
   "language": "python",
   "name": "python3"
  },
  "language_info": {
   "codemirror_mode": {
    "name": "ipython",
    "version": 3
   },
   "file_extension": ".py",
   "mimetype": "text/x-python",
   "name": "python",
   "nbconvert_exporter": "python",
   "pygments_lexer": "ipython3",
   "version": "3.9.6"
  }
 },
 "nbformat": 4,
 "nbformat_minor": 2
}
