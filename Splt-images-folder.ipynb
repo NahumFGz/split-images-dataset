{
 "cells": [
  {
   "cell_type": "code",
   "execution_count": 17,
   "metadata": {},
   "outputs": [],
   "source": [
    "import os\n",
    "import shutil\n",
    "from sklearn.model_selection import train_test_split"
   ]
  },
  {
   "cell_type": "code",
   "execution_count": 18,
   "metadata": {},
   "outputs": [],
   "source": [
    "def get_files(path):\n",
    "    dir_name  = os.path.join(os.getcwd(), path)\n",
    "    files     = os.listdir(dir_name)\n",
    "    paths    = []\n",
    "\n",
    "    for file in files:\n",
    "        if '.jpg' in file:\n",
    "            paths.append(os.path.join(path,file))\n",
    "    \n",
    "    return paths"
   ]
  },
  {
   "cell_type": "code",
   "execution_count": 19,
   "metadata": {},
   "outputs": [],
   "source": [
    "def print_path_info(paths):\n",
    "    g_paths = [path for path in paths if '_g_' in path]\n",
    "    non_g_paths = [path for path in paths if '_g_' not in path]\n",
    "\n",
    "    print(\"Total ->\", len(paths))\n",
    "    print(\"Glaucoma ->\", len(g_paths))\n",
    "    print(\"No Glaucoma\", len(non_g_paths)) \n",
    "    print(\"Glaucoma % ->\", len(g_paths)/len(paths))\n",
    "    print(\"No Glaucoma % ->\", len(non_g_paths)/len(paths))\n",
    "    print(\"\")"
   ]
  },
  {
   "cell_type": "code",
   "execution_count": 20,
   "metadata": {},
   "outputs": [
    {
     "name": "stdout",
     "output_type": "stream",
     "text": [
      "Imagenes -> 455\n"
     ]
    }
   ],
   "source": [
    "DATASET_NAME = 'ACRIMA'\n",
    "path = './datasets/' + DATASET_NAME\n",
    "paths = get_files(path)\n",
    "print(\"Imagenes ->\", len(paths))"
   ]
  },
  {
   "cell_type": "code",
   "execution_count": 21,
   "metadata": {},
   "outputs": [
    {
     "name": "stdout",
     "output_type": "stream",
     "text": [
      "Total -> 368\n",
      "Glaucoma -> 148\n",
      "No Glaucoma 220\n",
      "Glaucoma % -> 0.40217391304347827\n",
      "No Glaucoma % -> 0.5978260869565217\n",
      "\n",
      "--------------------\n",
      "Total -> 46\n",
      "Glaucoma -> 24\n",
      "No Glaucoma 22\n",
      "Glaucoma % -> 0.5217391304347826\n",
      "No Glaucoma % -> 0.4782608695652174\n",
      "\n",
      "--------------------\n",
      "Total -> 41\n",
      "Glaucoma -> 22\n",
      "No Glaucoma 19\n",
      "Glaucoma % -> 0.5365853658536586\n",
      "No Glaucoma % -> 0.4634146341463415\n",
      "\n"
     ]
    }
   ],
   "source": [
    "# First split: 90% for training, 10% for validation\n",
    "train_paths, val_paths = train_test_split(paths, test_size=0.10, random_state=42, shuffle=True)\n",
    "\n",
    "# Second split: 90% of the first training set for training, 10% for testing\n",
    "train_paths, test_paths = train_test_split(train_paths, test_size=0.10, random_state=30, shuffle=True)\n",
    "\n",
    "print_path_info(train_paths)\n",
    "print(\"--------------------\")\n",
    "print_path_info(val_paths)\n",
    "print(\"--------------------\")\n",
    "print_path_info(test_paths)"
   ]
  },
  {
   "cell_type": "code",
   "execution_count": 22,
   "metadata": {},
   "outputs": [
    {
     "name": "stdout",
     "output_type": "stream",
     "text": [
      "Images copied to datasets_split/RIM/train\n",
      "Images copied to datasets_split/RIM/val\n",
      "Images copied to datasets_split/RIM/test\n"
     ]
    }
   ],
   "source": [
    "def copy_images(paths, destination_folder):\n",
    "    if not os.path.exists(destination_folder):\n",
    "        os.makedirs(destination_folder)\n",
    "    for path in paths:\n",
    "        shutil.copy(path, destination_folder)\n",
    "    \n",
    "    print(\"Images copied to\", destination_folder)\n",
    "\n",
    "# Copy images\n",
    "copy_images(train_paths, 'datasets_split/'+DATASET_NAME+'/train')\n",
    "copy_images(val_paths, 'datasets_split/'+DATASET_NAME+'/val')\n",
    "copy_images(test_paths, 'datasets_split/'+DATASET_NAME+'/test')"
   ]
  },
  {
   "cell_type": "code",
   "execution_count": 23,
   "metadata": {},
   "outputs": [
    {
     "name": "stdout",
     "output_type": "stream",
     "text": [
      "Images copied to datasets_split_folder/RIM/Fold0/train\n",
      "Images copied to datasets_split_folder/RIM/Fold0/valid\n",
      "Images copied to datasets_split_folder/RIM/Fold0/test\n"
     ]
    }
   ],
   "source": [
    "def copy_images(paths, destination_folder):\n",
    "    glaucoma_folder = os.path.join(destination_folder, 'glaucoma')\n",
    "    normal_folder = os.path.join(destination_folder, 'normal')\n",
    "\n",
    "    if not os.path.exists(glaucoma_folder):\n",
    "        os.makedirs(glaucoma_folder)\n",
    "    if not os.path.exists(normal_folder):\n",
    "        os.makedirs(normal_folder)\n",
    "\n",
    "    for path in paths:\n",
    "        if '_g_' in path:\n",
    "            shutil.copy(path, glaucoma_folder)\n",
    "        else:\n",
    "            shutil.copy(path, normal_folder)\n",
    "\n",
    "    print(\"Images copied to\", destination_folder)\n",
    "\n",
    "# Copy images\n",
    "copy_images(train_paths, 'datasets_split_folder/'+DATASET_NAME+'/Fold0/train')\n",
    "copy_images(val_paths, 'datasets_split_folder/'+DATASET_NAME+'/Fold0/valid')\n",
    "copy_images(test_paths, 'datasets_split_folder/'+DATASET_NAME+'/Fold0/test')"
   ]
  },
  {
   "cell_type": "code",
   "execution_count": null,
   "metadata": {},
   "outputs": [],
   "source": []
  }
 ],
 "metadata": {
  "kernelspec": {
   "display_name": "my_env",
   "language": "python",
   "name": "python3"
  },
  "language_info": {
   "codemirror_mode": {
    "name": "ipython",
    "version": 3
   },
   "file_extension": ".py",
   "mimetype": "text/x-python",
   "name": "python",
   "nbconvert_exporter": "python",
   "pygments_lexer": "ipython3",
   "version": "3.9.6"
  }
 },
 "nbformat": 4,
 "nbformat_minor": 2
}
